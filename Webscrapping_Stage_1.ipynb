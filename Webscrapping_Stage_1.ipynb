{
  "nbformat": 4,
  "nbformat_minor": 0,
  "metadata": {
    "colab": {
      "provenance": []
    },
    "kernelspec": {
      "name": "python3",
      "display_name": "Python 3"
    },
    "language_info": {
      "name": "python"
    }
  },
  "cells": [
    {
      "cell_type": "code",
      "execution_count": 1,
      "metadata": {
        "colab": {
          "base_uri": "https://localhost:8080/"
        },
        "id": "fF4Z8fy0DyUE",
        "outputId": "c3167f56-ae85-40b1-86ef-146d3f161e92"
      },
      "outputs": [
        {
          "output_type": "stream",
          "name": "stdout",
          "text": [
            "Looking in indexes: https://pypi.org/simple, https://us-python.pkg.dev/colab-wheels/public/simple/\n",
            "Requirement already satisfied: cloudscraper in /usr/local/lib/python3.9/dist-packages (1.2.69)\n",
            "Requirement already satisfied: requests>=2.9.2 in /usr/local/lib/python3.9/dist-packages (from cloudscraper) (2.27.1)\n",
            "Requirement already satisfied: pyparsing>=2.4.7 in /usr/local/lib/python3.9/dist-packages (from cloudscraper) (3.0.9)\n",
            "Requirement already satisfied: requests-toolbelt>=0.9.1 in /usr/local/lib/python3.9/dist-packages (from cloudscraper) (0.10.1)\n",
            "Requirement already satisfied: urllib3<1.27,>=1.21.1 in /usr/local/lib/python3.9/dist-packages (from requests>=2.9.2->cloudscraper) (1.26.15)\n",
            "Requirement already satisfied: charset-normalizer~=2.0.0 in /usr/local/lib/python3.9/dist-packages (from requests>=2.9.2->cloudscraper) (2.0.12)\n",
            "Requirement already satisfied: certifi>=2017.4.17 in /usr/local/lib/python3.9/dist-packages (from requests>=2.9.2->cloudscraper) (2022.12.7)\n",
            "Requirement already satisfied: idna<4,>=2.5 in /usr/local/lib/python3.9/dist-packages (from requests>=2.9.2->cloudscraper) (3.4)\n"
          ]
        }
      ],
      "source": [
        "!pip install cloudscraper"
      ]
    },
    {
      "cell_type": "code",
      "source": [
        "from bs4 import BeautifulSoup\n",
        "import cloudscraper\n",
        "import csv\n",
        "import re\n",
        "import time\n",
        "import pandas as pd"
      ],
      "metadata": {
        "id": "LmvtmO_bD7oV"
      },
      "execution_count": 2,
      "outputs": []
    },
    {
      "cell_type": "code",
      "source": [
        "list_of_links = []\n",
        "\n",
        "with open('links_file.csv', mode='w', newline='', encoding='utf-8') as csvfile:\n",
        "    csv_writer = csv.writer(csvfile)\n",
        "    csv_writer.writerow(['Url', 'Time posted', 'Date posted'])\n",
        "\n",
        "for i in range(104, 5050, 1): \n",
        "    url      = f\"https://www.nairaland.com/news/{i}\" \n",
        "    scraper  = cloudscraper.create_scraper()\n",
        "    raw_html = (scraper.get(url).text)\n",
        "    soup     = BeautifulSoup(raw_html, \"html.parser\")\n",
        "    post_elements = soup.select(\"hr + a\") \n",
        "\n",
        "    for elem in post_elements: \n",
        "        post_link = elem[\"href\"] \n",
        "        post_link = re.sub(r\"/\\d+(?=#|$)\", \"\", post_link) \n",
        "\n",
        "        time_and_date = elem.find_next_siblings(\"b\") \n",
        "        post_time     = time_and_date[0].text \n",
        "        post_date     = time_and_date[1].text\n",
        "        \n",
        "        if len(time_and_date) > 2 and time_and_date[2].text.isdigit():\n",
        "            post_year = time_and_date[2].text\n",
        "        else:\n",
        "            post_year = '2023'\n",
        "\n",
        "        list_of_links.append([post_link, post_time, f\"{post_date}, {post_year}\"]) \n",
        "\n",
        "    if i % 100 == 0 and i != 0:\n",
        "         time.sleep(120)\n",
        "\n",
        "    with open('links_file.csv', mode='a', newline='', encoding='utf-8') as csvfile:\n",
        "        csv_writer = csv.writer(csvfile)\n",
        "\n",
        "        for item in list_of_links:\n",
        "            csv_writer.writerow(item)\n",
        "\n",
        "    list_of_links.clear()\n"
      ],
      "metadata": {
        "id": "SbZ48DTGKThx"
      },
      "execution_count": 3,
      "outputs": []
    },
    {
      "cell_type": "code",
      "source": [
        "#read from csv and convert to dataframe\n",
        "links_file = pd.read_csv('links_file.csv')\n",
        "#display the scrapped list of links\n",
        "links_file"
      ],
      "metadata": {
        "colab": {
          "base_uri": "https://localhost:8080/",
          "height": 423
        },
        "id": "AybQpdBDIUJE",
        "outputId": "4469ba67-c802-4ecf-c5a8-5f3161ead7a6"
      },
      "execution_count": 4,
      "outputs": [
        {
          "output_type": "execute_result",
          "data": {
            "text/plain": [
              "                                                      Url Time posted  \\\n",
              "0       https://www.nairaland.com/7503295/pdp-g-5-govs...     10:39am   \n",
              "1       https://www.nairaland.com/7503173/suspected-ba...     10:38am   \n",
              "2       https://www.nairaland.com/7503347/9ice-wife-su...     10:38am   \n",
              "3       https://www.nairaland.com/7503670/onslaught-la...     10:35am   \n",
              "4       https://www.nairaland.com/7503259/man-beat-dau...     10:01am   \n",
              "...                                                   ...         ...   \n",
              "257905  https://www.nairaland.com/nigeria/topic-837796...      6:12pm   \n",
              "257906  https://www.nairaland.com/nigeria/topic-838840...      5:59pm   \n",
              "257907  https://www.nairaland.com/nigeria/topic-838832...      5:47pm   \n",
              "257908  https://www.nairaland.com/nigeria/topic-838863...      5:40pm   \n",
              "257909  https://www.nairaland.com/nigeria/topic-838429...      4:40pm   \n",
              "\n",
              "         Date posted  \n",
              "0       Dec 31, 2022  \n",
              "1       Dec 31, 2022  \n",
              "2       Dec 31, 2022  \n",
              "3       Dec 31, 2022  \n",
              "4       Dec 31, 2022  \n",
              "...              ...  \n",
              "257905  Jan 04, 2012  \n",
              "257906  Jan 04, 2012  \n",
              "257907  Jan 04, 2012  \n",
              "257908  Jan 04, 2012  \n",
              "257909  Jan 04, 2012  \n",
              "\n",
              "[257910 rows x 3 columns]"
            ],
            "text/html": [
              "\n",
              "  <div id=\"df-2186ad1d-9115-4afe-a34d-3dafd8e15097\">\n",
              "    <div class=\"colab-df-container\">\n",
              "      <div>\n",
              "<style scoped>\n",
              "    .dataframe tbody tr th:only-of-type {\n",
              "        vertical-align: middle;\n",
              "    }\n",
              "\n",
              "    .dataframe tbody tr th {\n",
              "        vertical-align: top;\n",
              "    }\n",
              "\n",
              "    .dataframe thead th {\n",
              "        text-align: right;\n",
              "    }\n",
              "</style>\n",
              "<table border=\"1\" class=\"dataframe\">\n",
              "  <thead>\n",
              "    <tr style=\"text-align: right;\">\n",
              "      <th></th>\n",
              "      <th>Url</th>\n",
              "      <th>Time posted</th>\n",
              "      <th>Date posted</th>\n",
              "    </tr>\n",
              "  </thead>\n",
              "  <tbody>\n",
              "    <tr>\n",
              "      <th>0</th>\n",
              "      <td>https://www.nairaland.com/7503295/pdp-g-5-govs...</td>\n",
              "      <td>10:39am</td>\n",
              "      <td>Dec 31, 2022</td>\n",
              "    </tr>\n",
              "    <tr>\n",
              "      <th>1</th>\n",
              "      <td>https://www.nairaland.com/7503173/suspected-ba...</td>\n",
              "      <td>10:38am</td>\n",
              "      <td>Dec 31, 2022</td>\n",
              "    </tr>\n",
              "    <tr>\n",
              "      <th>2</th>\n",
              "      <td>https://www.nairaland.com/7503347/9ice-wife-su...</td>\n",
              "      <td>10:38am</td>\n",
              "      <td>Dec 31, 2022</td>\n",
              "    </tr>\n",
              "    <tr>\n",
              "      <th>3</th>\n",
              "      <td>https://www.nairaland.com/7503670/onslaught-la...</td>\n",
              "      <td>10:35am</td>\n",
              "      <td>Dec 31, 2022</td>\n",
              "    </tr>\n",
              "    <tr>\n",
              "      <th>4</th>\n",
              "      <td>https://www.nairaland.com/7503259/man-beat-dau...</td>\n",
              "      <td>10:01am</td>\n",
              "      <td>Dec 31, 2022</td>\n",
              "    </tr>\n",
              "    <tr>\n",
              "      <th>...</th>\n",
              "      <td>...</td>\n",
              "      <td>...</td>\n",
              "      <td>...</td>\n",
              "    </tr>\n",
              "    <tr>\n",
              "      <th>257905</th>\n",
              "      <td>https://www.nairaland.com/nigeria/topic-837796...</td>\n",
              "      <td>6:12pm</td>\n",
              "      <td>Jan 04, 2012</td>\n",
              "    </tr>\n",
              "    <tr>\n",
              "      <th>257906</th>\n",
              "      <td>https://www.nairaland.com/nigeria/topic-838840...</td>\n",
              "      <td>5:59pm</td>\n",
              "      <td>Jan 04, 2012</td>\n",
              "    </tr>\n",
              "    <tr>\n",
              "      <th>257907</th>\n",
              "      <td>https://www.nairaland.com/nigeria/topic-838832...</td>\n",
              "      <td>5:47pm</td>\n",
              "      <td>Jan 04, 2012</td>\n",
              "    </tr>\n",
              "    <tr>\n",
              "      <th>257908</th>\n",
              "      <td>https://www.nairaland.com/nigeria/topic-838863...</td>\n",
              "      <td>5:40pm</td>\n",
              "      <td>Jan 04, 2012</td>\n",
              "    </tr>\n",
              "    <tr>\n",
              "      <th>257909</th>\n",
              "      <td>https://www.nairaland.com/nigeria/topic-838429...</td>\n",
              "      <td>4:40pm</td>\n",
              "      <td>Jan 04, 2012</td>\n",
              "    </tr>\n",
              "  </tbody>\n",
              "</table>\n",
              "<p>257910 rows × 3 columns</p>\n",
              "</div>\n",
              "      <button class=\"colab-df-convert\" onclick=\"convertToInteractive('df-2186ad1d-9115-4afe-a34d-3dafd8e15097')\"\n",
              "              title=\"Convert this dataframe to an interactive table.\"\n",
              "              style=\"display:none;\">\n",
              "        \n",
              "  <svg xmlns=\"http://www.w3.org/2000/svg\" height=\"24px\"viewBox=\"0 0 24 24\"\n",
              "       width=\"24px\">\n",
              "    <path d=\"M0 0h24v24H0V0z\" fill=\"none\"/>\n",
              "    <path d=\"M18.56 5.44l.94 2.06.94-2.06 2.06-.94-2.06-.94-.94-2.06-.94 2.06-2.06.94zm-11 1L8.5 8.5l.94-2.06 2.06-.94-2.06-.94L8.5 2.5l-.94 2.06-2.06.94zm10 10l.94 2.06.94-2.06 2.06-.94-2.06-.94-.94-2.06-.94 2.06-2.06.94z\"/><path d=\"M17.41 7.96l-1.37-1.37c-.4-.4-.92-.59-1.43-.59-.52 0-1.04.2-1.43.59L10.3 9.45l-7.72 7.72c-.78.78-.78 2.05 0 2.83L4 21.41c.39.39.9.59 1.41.59.51 0 1.02-.2 1.41-.59l7.78-7.78 2.81-2.81c.8-.78.8-2.07 0-2.86zM5.41 20L4 18.59l7.72-7.72 1.47 1.35L5.41 20z\"/>\n",
              "  </svg>\n",
              "      </button>\n",
              "      \n",
              "  <style>\n",
              "    .colab-df-container {\n",
              "      display:flex;\n",
              "      flex-wrap:wrap;\n",
              "      gap: 12px;\n",
              "    }\n",
              "\n",
              "    .colab-df-convert {\n",
              "      background-color: #E8F0FE;\n",
              "      border: none;\n",
              "      border-radius: 50%;\n",
              "      cursor: pointer;\n",
              "      display: none;\n",
              "      fill: #1967D2;\n",
              "      height: 32px;\n",
              "      padding: 0 0 0 0;\n",
              "      width: 32px;\n",
              "    }\n",
              "\n",
              "    .colab-df-convert:hover {\n",
              "      background-color: #E2EBFA;\n",
              "      box-shadow: 0px 1px 2px rgba(60, 64, 67, 0.3), 0px 1px 3px 1px rgba(60, 64, 67, 0.15);\n",
              "      fill: #174EA6;\n",
              "    }\n",
              "\n",
              "    [theme=dark] .colab-df-convert {\n",
              "      background-color: #3B4455;\n",
              "      fill: #D2E3FC;\n",
              "    }\n",
              "\n",
              "    [theme=dark] .colab-df-convert:hover {\n",
              "      background-color: #434B5C;\n",
              "      box-shadow: 0px 1px 3px 1px rgba(0, 0, 0, 0.15);\n",
              "      filter: drop-shadow(0px 1px 2px rgba(0, 0, 0, 0.3));\n",
              "      fill: #FFFFFF;\n",
              "    }\n",
              "  </style>\n",
              "\n",
              "      <script>\n",
              "        const buttonEl =\n",
              "          document.querySelector('#df-2186ad1d-9115-4afe-a34d-3dafd8e15097 button.colab-df-convert');\n",
              "        buttonEl.style.display =\n",
              "          google.colab.kernel.accessAllowed ? 'block' : 'none';\n",
              "\n",
              "        async function convertToInteractive(key) {\n",
              "          const element = document.querySelector('#df-2186ad1d-9115-4afe-a34d-3dafd8e15097');\n",
              "          const dataTable =\n",
              "            await google.colab.kernel.invokeFunction('convertToInteractive',\n",
              "                                                     [key], {});\n",
              "          if (!dataTable) return;\n",
              "\n",
              "          const docLinkHtml = 'Like what you see? Visit the ' +\n",
              "            '<a target=\"_blank\" href=https://colab.research.google.com/notebooks/data_table.ipynb>data table notebook</a>'\n",
              "            + ' to learn more about interactive tables.';\n",
              "          element.innerHTML = '';\n",
              "          dataTable['output_type'] = 'display_data';\n",
              "          await google.colab.output.renderOutput(dataTable, element);\n",
              "          const docLink = document.createElement('div');\n",
              "          docLink.innerHTML = docLinkHtml;\n",
              "          element.appendChild(docLink);\n",
              "        }\n",
              "      </script>\n",
              "    </div>\n",
              "  </div>\n",
              "  "
            ]
          },
          "metadata": {},
          "execution_count": 4
        }
      ]
    },
    {
      "cell_type": "code",
      "source": [
        "#"
      ],
      "metadata": {
        "id": "kEy7yR2E8oWc"
      },
      "execution_count": null,
      "outputs": []
    },
    {
      "cell_type": "markdown",
      "source": [
        "### SPLITTING THE URLS INTO 6 PARTS AND SAVING EACH INTO SEPARATE CSV FILE"
      ],
      "metadata": {
        "id": "pTL8-X8P8sC0"
      }
    },
    {
      "cell_type": "markdown",
      "source": [],
      "metadata": {
        "id": "seuEsCnK70U8"
      }
    },
    {
      "cell_type": "code",
      "source": [
        "\n",
        "# Define the number of rows per file\n",
        "rows_per_file = 50000\n",
        "# Calculate the number of full files needed\n",
        "num_full_files = len(links_file) // rows_per_file\n",
        "\n",
        "# Calculate the number of rows in the last file\n",
        "remainder_rows = len(links_file) % rows_per_file\n",
        "\n",
        "# Split the data and save it to separate files\n",
        "for i in range(num_full_files):\n",
        "    start = i * rows_per_file\n",
        "    end = (i + 1) * rows_per_file\n",
        "    links_file[start:end].to_csv(f'links_file_{i + 1}.csv', index=False)\n",
        "\n",
        "# Save the remaining rows to the last file\n",
        "if remainder_rows > 0:\n",
        "    start = num_full_files * rows_per_file\n",
        "    end = len(links_file)\n",
        "    links_file[start:end].to_csv(f'links_file_{num_full_files + 1}.csv',  \n",
        "    index=False)\n"
      ],
      "metadata": {
        "id": "6o8dHFuB7wfK"
      },
      "execution_count": 5,
      "outputs": []
    },
    {
      "cell_type": "code",
      "source": [
        "links_file_1 = pd.read_csv('links_file_1.csv')\n",
        "links_file_2 = pd.read_csv('links_file_2.csv')\n",
        "links_file_3 = pd.read_csv('links_file_3.csv')\n",
        "links_file_4 = pd.read_csv('links_file_4.csv')\n",
        "links_file_5 = pd.read_csv('links_file_5.csv')\n",
        "links_file_6 = pd.read_csv('links_file_6.csv')\n"
      ],
      "metadata": {
        "id": "eEZARdjB-aGD"
      },
      "execution_count": 6,
      "outputs": []
    },
    {
      "cell_type": "code",
      "source": [
        "print('Number of Urls in first part is', len(links_file_1))\n",
        "print('Number of Urls in second part is', len(links_file_2))\n",
        "print('Number of Urls in third part is', len(links_file_3))\n",
        "print('Number of Urls in fourth part is', len(links_file_4))\n",
        "print('Number of Urls in fifth part is', len(links_file_5))\n",
        "print('Number of Urls in sixth part is', len(links_file_6))\n",
        "print('*******************************************')\n",
        "print('Total Number of Urls in all parts:', len(links_file))\n",
        "print('*******************************************')\n"
      ],
      "metadata": {
        "colab": {
          "base_uri": "https://localhost:8080/"
        },
        "id": "WfYmk_057wGX",
        "outputId": "21170702-ee28-4d03-c366-f8f3f620b92a"
      },
      "execution_count": 9,
      "outputs": [
        {
          "output_type": "stream",
          "name": "stdout",
          "text": [
            "Number of Urls in first part is 50000\n",
            "Number of Urls in second part is 50000\n",
            "Number of Urls in third part is 50000\n",
            "Number of Urls in fourth part is 50000\n",
            "Number of Urls in fifth part is 50000\n",
            "Number of Urls in sixth part is 7910\n",
            "*******************************************\n",
            "Total Number of Urls in all parts: 257910\n",
            "*******************************************\n"
          ]
        }
      ]
    },
    {
      "cell_type": "code",
      "source": [],
      "metadata": {
        "id": "Atrnqxw7SLyy"
      },
      "execution_count": null,
      "outputs": []
    }
  ]
}
